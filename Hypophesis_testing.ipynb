{
 "cells": [
  {
   "cell_type": "code",
   "execution_count": 31,
   "id": "ee3c8d9b",
   "metadata": {},
   "outputs": [],
   "source": [
    "import pandas as pd\n",
    "import numpy as np\n",
    "from scipy.stats import ttest_ind"
   ]
  },
  {
   "cell_type": "code",
   "execution_count": 32,
   "id": "00aacb2b",
   "metadata": {},
   "outputs": [],
   "source": [
    "df = pd.read_csv(r\"C:\\Users\\99899\\Desktop\\Home_Credit\\updated\\data\\cleaned\\train_filtered.csv\")"
   ]
  },
  {
   "cell_type": "code",
   "execution_count": 33,
   "id": "91ae708c",
   "metadata": {},
   "outputs": [],
   "source": [
    "df_filtered = df[(df['DAYS_CREDIT'] != 0) & (df['DAYS_ENDDATE_FACT'] != 0)]\n"
   ]
  },
  {
   "cell_type": "code",
   "execution_count": 34,
   "id": "204b8940",
   "metadata": {},
   "outputs": [
    {
     "name": "stderr",
     "output_type": "stream",
     "text": [
      "C:\\Users\\99899\\AppData\\Local\\Temp\\ipykernel_1100\\306834429.py:2: SettingWithCopyWarning: \n",
      "A value is trying to be set on a copy of a slice from a DataFrame.\n",
      "Try using .loc[row_indexer,col_indexer] = value instead\n",
      "\n",
      "See the caveats in the documentation: https://pandas.pydata.org/pandas-docs/stable/user_guide/indexing.html#returning-a-view-versus-a-copy\n",
      "  df_filtered['AGE_YEARS'] = df_filtered['DAYS_BIRTH'] / -365\n",
      "C:\\Users\\99899\\AppData\\Local\\Temp\\ipykernel_1100\\306834429.py:3: SettingWithCopyWarning: \n",
      "A value is trying to be set on a copy of a slice from a DataFrame.\n",
      "Try using .loc[row_indexer,col_indexer] = value instead\n",
      "\n",
      "See the caveats in the documentation: https://pandas.pydata.org/pandas-docs/stable/user_guide/indexing.html#returning-a-view-versus-a-copy\n",
      "  df_filtered['AGE_GROUP'] = pd.cut(df_filtered['AGE_YEARS'], bins=[20, 30, 40, 50, 60, 70], labels=['20-30', '30-40', '40-50', '50-60', '60-70'])\n",
      "C:\\Users\\99899\\AppData\\Local\\Temp\\ipykernel_1100\\306834429.py:6: SettingWithCopyWarning: \n",
      "A value is trying to be set on a copy of a slice from a DataFrame.\n",
      "Try using .loc[row_indexer,col_indexer] = value instead\n",
      "\n",
      "See the caveats in the documentation: https://pandas.pydata.org/pandas-docs/stable/user_guide/indexing.html#returning-a-view-versus-a-copy\n",
      "  df_filtered['YEARS_CREDIT'] = df_filtered['DAYS_CREDIT'] / -365\n",
      "C:\\Users\\99899\\AppData\\Local\\Temp\\ipykernel_1100\\306834429.py:9: SettingWithCopyWarning: \n",
      "A value is trying to be set on a copy of a slice from a DataFrame.\n",
      "Try using .loc[row_indexer,col_indexer] = value instead\n",
      "\n",
      "See the caveats in the documentation: https://pandas.pydata.org/pandas-docs/stable/user_guide/indexing.html#returning-a-view-versus-a-copy\n",
      "  df_filtered['YEARS_ENDDATE_FACT'] = df_filtered['DAYS_ENDDATE_FACT'] / -365\n"
     ]
    }
   ],
   "source": [
    "# Convert DAYS_BIRTH from days to years and categorize\n",
    "df_filtered['AGE_YEARS'] = df_filtered['DAYS_BIRTH'] / -365\n",
    "df_filtered['AGE_GROUP'] = pd.cut(df_filtered['AGE_YEARS'], bins=[20, 30, 40, 50, 60, 70], labels=['20-30', '30-40', '40-50', '50-60', '60-70'])\n",
    "\n",
    "# Convert DAYS_CREDIT from days to years\n",
    "df_filtered['YEARS_CREDIT'] = df_filtered['DAYS_CREDIT'] / -365\n",
    "\n",
    "# Convert DAYS_ENDDATE_FACT from days to years\n",
    "df_filtered['YEARS_ENDDATE_FACT'] = df_filtered['DAYS_ENDDATE_FACT'] / -365"
   ]
  },
  {
   "cell_type": "code",
   "execution_count": 35,
   "id": "c8ac18dd",
   "metadata": {},
   "outputs": [
    {
     "name": "stderr",
     "output_type": "stream",
     "text": [
      "C:\\Users\\99899\\AppData\\Local\\Temp\\ipykernel_1100\\4123742318.py:10: SettingWithCopyWarning: \n",
      "A value is trying to be set on a copy of a slice from a DataFrame.\n",
      "Try using .loc[row_indexer,col_indexer] = value instead\n",
      "\n",
      "See the caveats in the documentation: https://pandas.pydata.org/pandas-docs/stable/user_guide/indexing.html#returning-a-view-versus-a-copy\n",
      "  df_filtered['CREDIT_AGE_YEARS'] = pd.cut(df_filtered['YEARS_CREDIT'], bins=credit_bins, labels=credit_labels)\n",
      "C:\\Users\\99899\\AppData\\Local\\Temp\\ipykernel_1100\\4123742318.py:11: SettingWithCopyWarning: \n",
      "A value is trying to be set on a copy of a slice from a DataFrame.\n",
      "Try using .loc[row_indexer,col_indexer] = value instead\n",
      "\n",
      "See the caveats in the documentation: https://pandas.pydata.org/pandas-docs/stable/user_guide/indexing.html#returning-a-view-versus-a-copy\n",
      "  df_filtered['END_DATE_AGE_YEARS'] = pd.cut(df_filtered['YEARS_ENDDATE_FACT'], bins=end_date_bins, labels=end_date_labels)\n"
     ]
    }
   ],
   "source": [
    "#DAYS CREDIT\n",
    "credit_bins = [0, 2, 5, 10, 15, 20]  # Example bins for years since credit was issued\n",
    "end_date_bins = [0, 2, 5, 10, 15, 20]  # Example bins for years since last credit ended\n",
    "\n",
    "# Labels for the bins\n",
    "credit_labels = ['0-2 years', '2-5 years', '5-10 years', '10-15 years', '15-20 years']\n",
    "end_date_labels = ['0-2 years', '2-5 years', '5-10 years', '10-15 years', '15-20 years']\n",
    "\n",
    "# Categorize years into bins\n",
    "df_filtered['CREDIT_AGE_YEARS'] = pd.cut(df_filtered['YEARS_CREDIT'], bins=credit_bins, labels=credit_labels)\n",
    "df_filtered['END_DATE_AGE_YEARS'] = pd.cut(df_filtered['YEARS_ENDDATE_FACT'], bins=end_date_bins, labels=end_date_labels)\n"
   ]
  },
  {
   "cell_type": "code",
   "execution_count": 36,
   "id": "628043b8",
   "metadata": {
    "scrolled": true
   },
   "outputs": [
    {
     "data": {
      "text/plain": [
       "DAYS_EMPLOYED\n",
       " 365243    55374\n",
       "-200         156\n",
       "-224         152\n",
       "-199         151\n",
       "-230         151\n",
       "           ...  \n",
       "-13961         1\n",
       "-11827         1\n",
       "-10176         1\n",
       "-9459          1\n",
       "-8694          1\n",
       "Name: count, Length: 12574, dtype: int64"
      ]
     },
     "execution_count": 36,
     "metadata": {},
     "output_type": "execute_result"
    }
   ],
   "source": [
    "df['DAYS_EMPLOYED'].value_counts()"
   ]
  },
  {
   "cell_type": "code",
   "execution_count": 37,
   "id": "cd849305",
   "metadata": {
    "scrolled": true
   },
   "outputs": [
    {
     "name": "stderr",
     "output_type": "stream",
     "text": [
      "C:\\Users\\99899\\AppData\\Local\\Temp\\ipykernel_1100\\3873156475.py:4: SettingWithCopyWarning: \n",
      "A value is trying to be set on a copy of a slice from a DataFrame.\n",
      "Try using .loc[row_indexer,col_indexer] = value instead\n",
      "\n",
      "See the caveats in the documentation: https://pandas.pydata.org/pandas-docs/stable/user_guide/indexing.html#returning-a-view-versus-a-copy\n",
      "  df_filtered['MONTHS_EMPLOYED'] = df_filtered['DAYS_EMPLOYED'] / 30.44\n",
      "C:\\Users\\99899\\AppData\\Local\\Temp\\ipykernel_1100\\3873156475.py:7: SettingWithCopyWarning: \n",
      "A value is trying to be set on a copy of a slice from a DataFrame.\n",
      "Try using .loc[row_indexer,col_indexer] = value instead\n",
      "\n",
      "See the caveats in the documentation: https://pandas.pydata.org/pandas-docs/stable/user_guide/indexing.html#returning-a-view-versus-a-copy\n",
      "  df_filtered['MONTHS_EMPLOYED'] = np.where(df_filtered['DAYS_EMPLOYED'] == 365243, -1, df_filtered['MONTHS_EMPLOYED'])\n",
      "C:\\Users\\99899\\AppData\\Local\\Temp\\ipykernel_1100\\3873156475.py:10: SettingWithCopyWarning: \n",
      "A value is trying to be set on a copy of a slice from a DataFrame.\n",
      "Try using .loc[row_indexer,col_indexer] = value instead\n",
      "\n",
      "See the caveats in the documentation: https://pandas.pydata.org/pandas-docs/stable/user_guide/indexing.html#returning-a-view-versus-a-copy\n",
      "  df_filtered['MONTHS_EMPLOYED'] = df_filtered['MONTHS_EMPLOYED'].astype(int)\n"
     ]
    }
   ],
   "source": [
    "import numpy as np\n",
    "\n",
    "# Convert DAYS_EMPLOYED to months\n",
    "df_filtered['MONTHS_EMPLOYED'] = df_filtered['DAYS_EMPLOYED'] / 30.44\n",
    "\n",
    "# Handle special values, assuming 365243 means something specific like not employed\n",
    "df_filtered['MONTHS_EMPLOYED'] = np.where(df_filtered['DAYS_EMPLOYED'] == 365243, -1, df_filtered['MONTHS_EMPLOYED'])\n",
    "\n",
    "# Convert MONTHS_EMPLOYED to integer if you need it as whole months\n",
    "df_filtered['MONTHS_EMPLOYED'] = df_filtered['MONTHS_EMPLOYED'].astype(int)"
   ]
  },
  {
   "cell_type": "code",
   "execution_count": 38,
   "id": "09b61e19",
   "metadata": {},
   "outputs": [
    {
     "name": "stderr",
     "output_type": "stream",
     "text": [
      "C:\\Users\\99899\\AppData\\Local\\Temp\\ipykernel_1100\\1331988232.py:1: SettingWithCopyWarning: \n",
      "A value is trying to be set on a copy of a slice from a DataFrame.\n",
      "Try using .loc[row_indexer,col_indexer] = value instead\n",
      "\n",
      "See the caveats in the documentation: https://pandas.pydata.org/pandas-docs/stable/user_guide/indexing.html#returning-a-view-versus-a-copy\n",
      "  df_filtered['PAYMENT_AMT'] = pd.qcut(df_filtered['AMT_PAYMENT'], q=4, labels=['Low', 'Medium', 'High', 'Very High'])\n"
     ]
    }
   ],
   "source": [
    "df_filtered['PAYMENT_AMT'] = pd.qcut(df_filtered['AMT_PAYMENT'], q=4, labels=['Low', 'Medium', 'High', 'Very High'])"
   ]
  },
  {
   "cell_type": "code",
   "execution_count": 39,
   "id": "81aa747f",
   "metadata": {
    "scrolled": true
   },
   "outputs": [
    {
     "name": "stderr",
     "output_type": "stream",
     "text": [
      "C:\\Users\\99899\\AppData\\Local\\Temp\\ipykernel_1100\\807151851.py:1: SettingWithCopyWarning: \n",
      "A value is trying to be set on a copy of a slice from a DataFrame.\n",
      "Try using .loc[row_indexer,col_indexer] = value instead\n",
      "\n",
      "See the caveats in the documentation: https://pandas.pydata.org/pandas-docs/stable/user_guide/indexing.html#returning-a-view-versus-a-copy\n",
      "  df_filtered['GOOD_PRICE'] = pd.qcut(df_filtered['AMT_GOODS_PRICE'], q=4, labels=['Low', 'Medium', 'High', 'Very High'])\n"
     ]
    }
   ],
   "source": [
    "df_filtered['GOOD_PRICE'] = pd.qcut(df_filtered['AMT_GOODS_PRICE'], q=4, labels=['Low', 'Medium', 'High', 'Very High'])"
   ]
  },
  {
   "cell_type": "code",
   "execution_count": 40,
   "id": "e4a41012",
   "metadata": {
    "scrolled": false
   },
   "outputs": [
    {
     "data": {
      "text/html": [
       "<div>\n",
       "<style scoped>\n",
       "    .dataframe tbody tr th:only-of-type {\n",
       "        vertical-align: middle;\n",
       "    }\n",
       "\n",
       "    .dataframe tbody tr th {\n",
       "        vertical-align: top;\n",
       "    }\n",
       "\n",
       "    .dataframe thead th {\n",
       "        text-align: right;\n",
       "    }\n",
       "</style>\n",
       "<table border=\"1\" class=\"dataframe\">\n",
       "  <thead>\n",
       "    <tr style=\"text-align: right;\">\n",
       "      <th></th>\n",
       "      <th>ORGANIZATION_TYPE</th>\n",
       "      <th>NAME_INCOME_TYPE</th>\n",
       "      <th>NAME_FAMILY_STATUS</th>\n",
       "    </tr>\n",
       "  </thead>\n",
       "  <tbody>\n",
       "    <tr>\n",
       "      <th>0</th>\n",
       "      <td>Business Entity Type 3</td>\n",
       "      <td>Working</td>\n",
       "      <td>Single / not married</td>\n",
       "    </tr>\n",
       "    <tr>\n",
       "      <th>7</th>\n",
       "      <td>Other</td>\n",
       "      <td>State servant</td>\n",
       "      <td>Married</td>\n",
       "    </tr>\n",
       "    <tr>\n",
       "      <th>28</th>\n",
       "      <td>Military</td>\n",
       "      <td>State servant</td>\n",
       "      <td>Single / not married</td>\n",
       "    </tr>\n",
       "    <tr>\n",
       "      <th>32</th>\n",
       "      <td>Business Entity Type 2</td>\n",
       "      <td>Working</td>\n",
       "      <td>Civil marriage</td>\n",
       "    </tr>\n",
       "    <tr>\n",
       "      <th>41</th>\n",
       "      <td>Industry: type 1</td>\n",
       "      <td>Working</td>\n",
       "      <td>Married</td>\n",
       "    </tr>\n",
       "    <tr>\n",
       "      <th>...</th>\n",
       "      <td>...</td>\n",
       "      <td>...</td>\n",
       "      <td>...</td>\n",
       "    </tr>\n",
       "    <tr>\n",
       "      <th>307490</th>\n",
       "      <td>Self-employed</td>\n",
       "      <td>Commercial associate</td>\n",
       "      <td>Married</td>\n",
       "    </tr>\n",
       "    <tr>\n",
       "      <th>307499</th>\n",
       "      <td>Business Entity Type 3</td>\n",
       "      <td>Working</td>\n",
       "      <td>Married</td>\n",
       "    </tr>\n",
       "    <tr>\n",
       "      <th>307502</th>\n",
       "      <td>Bank</td>\n",
       "      <td>Commercial associate</td>\n",
       "      <td>Single / not married</td>\n",
       "    </tr>\n",
       "    <tr>\n",
       "      <th>307508</th>\n",
       "      <td>Business Entity Type 1</td>\n",
       "      <td>Commercial associate</td>\n",
       "      <td>Married</td>\n",
       "    </tr>\n",
       "    <tr>\n",
       "      <th>307509</th>\n",
       "      <td>Business Entity Type 3</td>\n",
       "      <td>Commercial associate</td>\n",
       "      <td>Married</td>\n",
       "    </tr>\n",
       "  </tbody>\n",
       "</table>\n",
       "<p>64886 rows × 3 columns</p>\n",
       "</div>"
      ],
      "text/plain": [
       "             ORGANIZATION_TYPE      NAME_INCOME_TYPE    NAME_FAMILY_STATUS\n",
       "0       Business Entity Type 3               Working  Single / not married\n",
       "7                        Other         State servant               Married\n",
       "28                    Military         State servant  Single / not married\n",
       "32      Business Entity Type 2               Working        Civil marriage\n",
       "41            Industry: type 1               Working               Married\n",
       "...                        ...                   ...                   ...\n",
       "307490           Self-employed  Commercial associate               Married\n",
       "307499  Business Entity Type 3               Working               Married\n",
       "307502                    Bank  Commercial associate  Single / not married\n",
       "307508  Business Entity Type 1  Commercial associate               Married\n",
       "307509  Business Entity Type 3  Commercial associate               Married\n",
       "\n",
       "[64886 rows x 3 columns]"
      ]
     },
     "execution_count": 40,
     "metadata": {},
     "output_type": "execute_result"
    }
   ],
   "source": [
    "df_filtered[['ORGANIZATION_TYPE', 'NAME_INCOME_TYPE', 'NAME_FAMILY_STATUS']]"
   ]
  },
  {
   "cell_type": "markdown",
   "id": "008eeaf8",
   "metadata": {},
   "source": [
    "# NAME_FAMILY_STATUS"
   ]
  },
  {
   "cell_type": "code",
   "execution_count": 41,
   "id": "60f63dd6",
   "metadata": {
    "scrolled": true
   },
   "outputs": [
    {
     "name": "stdout",
     "output_type": "stream",
     "text": [
      "NAME_FAMILY_STATUS\n",
      "Civil marriage          0.084821\n",
      "Married                 0.072453\n",
      "Separated               0.075012\n",
      "Single / not married    0.085764\n",
      "Widow                   0.054731\n",
      "Name: TARGET, dtype: float64\n"
     ]
    }
   ],
   "source": [
    "family_analysis = df_filtered.groupby('NAME_FAMILY_STATUS')['TARGET'].mean()\n",
    "print(family_analysis)"
   ]
  },
  {
   "cell_type": "code",
   "execution_count": 42,
   "id": "fb037426",
   "metadata": {},
   "outputs": [
    {
     "data": {
      "image/png": "[encoded data removed]",
      "text/plain": [
       "<Figure size 1000x600 with 1 Axes>"
      ]
     },
     "metadata": {},
     "output_type": "display_data"
    }
   ],
   "source": [
    "# Plotting\n",
    "plt.figure(figsize=(10, 6))\n",
    "sns.barplot(x=family_analysis.index, y=family_analysis.values, palette=\"viridis\")\n",
    "plt.title('Default Rates by Name Family Status')\n",
    "plt.xlabel('Family Status')\n",
    "plt.ylabel('Average Default Rate')\n",
    "plt.ylim(0, 1)  # Limit y-axis to show from 0 to 1 for better comparison of percentages\n",
    "plt.grid(True)\n",
    "plt.show()"
   ]
  },
  {
   "cell_type": "code",
   "execution_count": 45,
   "id": "7cdb8362",
   "metadata": {},
   "outputs": [
    {
     "name": "stdout",
     "output_type": "stream",
     "text": [
      "T-statistic: 3.9898799581683444, P-value: 6.653781160786233e-05\n",
      "There is a statistically significant difference in default rates\n"
     ]
    }
   ],
   "source": [
    "from scipy import stats\n",
    "group_with_family_status = df_filtered[df_filtered['NAME_FAMILY_STATUS'] == 'Single / not married']['TARGET']\n",
    "group_others = df_filtered[df_filtered['NAME_FAMILY_STATUS'] != 'Single / not married' ]['TARGET']\n",
    "\n",
    "# Perform t-test\n",
    "t_stat, p_value = stats.ttest_ind(group_with_family_status, group_others, equal_var=False)\n",
    "\n",
    "print(f\"T-statistic: {t_stat}, P-value: {p_value}\")\n",
    "\n",
    "# Interpret results\n",
    "if p_value < 0.05:\n",
    "    print(\"There is a statistically significant difference in default rates\")\n",
    "else:\n",
    "    print(\"There is no statistically significant difference in default rates\")"
   ]
  },
  {
   "cell_type": "markdown",
   "id": "7217463b",
   "metadata": {},
   "source": [
    "# NAME_INCOME_TYPE"
   ]
  },
  {
   "cell_type": "code",
   "execution_count": 46,
   "id": "9251e2ae",
   "metadata": {
    "scrolled": true
   },
   "outputs": [
    {
     "name": "stdout",
     "output_type": "stream",
     "text": [
      "NAME_INCOME_TYPE\n",
      "Commercial associate    0.071385\n",
      "Pensioner               0.050775\n",
      "State servant           0.060880\n",
      "Student                 0.000000\n",
      "Working                 0.086574\n",
      "Name: TARGET, dtype: float64\n"
     ]
    }
   ],
   "source": [
    "income_analysis = df_filtered.groupby('NAME_INCOME_TYPE')['TARGET'].mean()\n",
    "print(income_analysis)"
   ]
  },
  {
   "cell_type": "code",
   "execution_count": 47,
   "id": "7260c761",
   "metadata": {},
   "outputs": [
    {
     "data": {
      "image/png": "[encoded data removed]",
      "text/plain": [
       "<Figure size 1000x600 with 1 Axes>"
      ]
     },
     "metadata": {},
     "output_type": "display_data"
    }
   ],
   "source": [
    "# Plotting\n",
    "plt.figure(figsize=(10, 6))\n",
    "sns.barplot(x=income_analysis.index, y=income_analysis.values, palette=\"viridis\")\n",
    "plt.title('Default Rates by Name Income Type')\n",
    "plt.xlabel('Name Income Type')\n",
    "plt.ylabel('Average Default Rate')\n",
    "plt.ylim(0, 1)  # Limit y-axis to show from 0 to 1 for better comparison of percentages\n",
    "plt.grid(True)\n",
    "plt.show()"
   ]
  },
  {
   "cell_type": "code",
   "execution_count": 49,
   "id": "b732d141",
   "metadata": {},
   "outputs": [
    {
     "name": "stdout",
     "output_type": "stream",
     "text": [
      "T-statistic: 11.96596003185968, P-value: 5.8080137998421915e-33\n",
      "There is a statistically significant difference in default rates\n"
     ]
    }
   ],
   "source": [
    "group_with_income_type = df_filtered[df_filtered['NAME_INCOME_TYPE'] == 'Working']['TARGET']\n",
    "group_others = df_filtered[df_filtered['NAME_INCOME_TYPE'] != 'Working' ]['TARGET']\n",
    "\n",
    "# Perform t-test\n",
    "t_stat, p_value = stats.ttest_ind(group_with_income_type, group_others, equal_var=False)\n",
    "\n",
    "print(f\"T-statistic: {t_stat}, P-value: {p_value}\")\n",
    "\n",
    "# Interpret results\n",
    "if p_value < 0.05:\n",
    "    print(\"There is a statistically significant difference in default rates\")\n",
    "else:\n",
    "    print(\"There is no statistically significant difference in default rates\")"
   ]
  },
  {
   "cell_type": "markdown",
   "id": "4a65ca7b",
   "metadata": {},
   "source": [
    "# ORGANIZATION_TYPE"
   ]
  },
  {
   "cell_type": "markdown",
   "id": "55106eca",
   "metadata": {},
   "source": [
    "## no Statistical significant change"
   ]
  },
  {
   "cell_type": "code",
   "execution_count": 50,
   "id": "e075e02c",
   "metadata": {},
   "outputs": [
    {
     "data": {
      "text/plain": [
       "ORGANIZATION_TYPE\n",
       "Advertising               0.080460\n",
       "Agriculture               0.099796\n",
       "Bank                      0.052174\n",
       "Business Entity Type 1    0.097315\n",
       "Business Entity Type 2    0.078652\n",
       "Name: TARGET, dtype: float64"
      ]
     },
     "execution_count": 50,
     "metadata": {},
     "output_type": "execute_result"
    }
   ],
   "source": [
    "organization_analysis = df_filtered.groupby('ORGANIZATION_TYPE')['TARGET'].mean()\n",
    "organization_analysis.head(5)\n"
   ]
  },
  {
   "cell_type": "code",
   "execution_count": 51,
   "id": "08cd3202",
   "metadata": {},
   "outputs": [
    {
     "name": "stdout",
     "output_type": "stream",
     "text": [
      "T-statistic: 0.19913480328448238, P-value: 0.8426261912343205\n",
      "There is no statistically significant difference in default rates\n"
     ]
    }
   ],
   "source": [
    "group_with_organization_type = df_filtered[df_filtered['ORGANIZATION_TYPE'] == 'Advertising']['TARGET']\n",
    "group_others = df_filtered[df_filtered['ORGANIZATION_TYPE'] != 'Advertising' ]['TARGET']\n",
    "\n",
    "# Perform t-test\n",
    "t_stat, p_value = stats.ttest_ind(group_with_organization_type, group_others, equal_var=False)\n",
    "\n",
    "print(f\"T-statistic: {t_stat}, P-value: {p_value}\")\n",
    "\n",
    "# Interpret results\n",
    "if p_value < 0.05:\n",
    "    print(\"There is a statistically significant difference in default rates\")\n",
    "else:\n",
    "    print(\"There is no statistically significant difference in default rates\")"
   ]
  },
  {
   "cell_type": "markdown",
   "id": "fd9eac3c",
   "metadata": {},
   "source": [
    "# GOODS PRICE"
   ]
  },
  {
   "cell_type": "code",
   "execution_count": 52,
   "id": "0b11b2d2",
   "metadata": {
    "scrolled": true
   },
   "outputs": [
    {
     "name": "stdout",
     "output_type": "stream",
     "text": [
      "GOOD_PRICE\n",
      "Low          0.065043\n",
      "Medium       0.097972\n",
      "High         0.080396\n",
      "Very High    0.053833\n",
      "Name: TARGET, dtype: float64\n"
     ]
    }
   ],
   "source": [
    "goods_price_analysis = df_filtered.groupby('GOOD_PRICE')['TARGET'].mean()\n",
    "print(goods_price_analysis)\n"
   ]
  },
  {
   "cell_type": "code",
   "execution_count": 53,
   "id": "84166e0d",
   "metadata": {
    "scrolled": true
   },
   "outputs": [
    {
     "data": {
      "image/png": "[encoded data removed]",
      "text/plain": [
       "<Figure size 1000x600 with 1 Axes>"
      ]
     },
     "metadata": {},
     "output_type": "display_data"
    }
   ],
   "source": [
    "# Plotting\n",
    "plt.figure(figsize=(10, 6))\n",
    "sns.barplot(x=goods_price_analysis.index, y=goods_price_analysis.values, palette=\"viridis\")\n",
    "plt.title('Default Rates by Goods Price Category')\n",
    "plt.xlabel('Goods Price Category')\n",
    "plt.ylabel('Average Default Rate')\n",
    "plt.ylim(0, 1)  # Limit y-axis to show from 0 to 1 for better comparison of percentages\n",
    "plt.grid(True)\n",
    "plt.show()\n"
   ]
  },
  {
   "cell_type": "code",
   "execution_count": 54,
   "id": "ff5bfd20",
   "metadata": {},
   "outputs": [
    {
     "name": "stderr",
     "output_type": "stream",
     "text": [
      "C:\\Users\\99899\\AppData\\Local\\Temp\\ipykernel_1100\\3076609517.py:2: SettingWithCopyWarning: \n",
      "A value is trying to be set on a copy of a slice from a DataFrame.\n",
      "Try using .loc[row_indexer,col_indexer] = value instead\n",
      "\n",
      "See the caveats in the documentation: https://pandas.pydata.org/pandas-docs/stable/user_guide/indexing.html#returning-a-view-versus-a-copy\n",
      "  df_filtered['EMPLOYEMENT_DURATION_MONTHS'] = df_filtered['MONTHS_EMPLOYED'].abs()\n"
     ]
    }
   ],
   "source": [
    "# Convert EMPLOYMENT_DURATION to absolute values to represent months employed\n",
    "df_filtered['EMPLOYEMENT_DURATION_MONTHS'] = df_filtered['MONTHS_EMPLOYED'].abs()"
   ]
  },
  {
   "cell_type": "code",
   "execution_count": 55,
   "id": "8e6f5fcb",
   "metadata": {},
   "outputs": [
    {
     "name": "stderr",
     "output_type": "stream",
     "text": [
      "C:\\Users\\99899\\AppData\\Local\\Temp\\ipykernel_1100\\3527027097.py:7: SettingWithCopyWarning: \n",
      "A value is trying to be set on a copy of a slice from a DataFrame.\n",
      "Try using .loc[row_indexer,col_indexer] = value instead\n",
      "\n",
      "See the caveats in the documentation: https://pandas.pydata.org/pandas-docs/stable/user_guide/indexing.html#returning-a-view-versus-a-copy\n",
      "  df_filtered['EMPLOYEMENT_DURATION_GROUP'] = pd.cut(df_filtered['EMPLOYEMENT_DURATION_MONTHS'], bins=bins, labels=labels)\n"
     ]
    },
    {
     "data": {
      "image/png": "[encoded data removed]",
      "text/plain": [
       "<Figure size 1600x800 with 1 Axes>"
      ]
     },
     "metadata": {},
     "output_type": "display_data"
    }
   ],
   "source": [
    "# Categorizing 'EMPLOYMENT_DURATION_MONTHS' into half-year ranges\n",
    "bins = [0, 6, 12, 18, 24, 30, 36, 42, 48, 54, 60, 66, 72, 78, 84, 90, 96, 102, 108, 114, 120, float('inf')]\n",
    "labels = ['0-6 months', '7-12 months', '13-18 months', '19-24 months', '25-30 months',\n",
    "          '31-36 months', '37-42 months', '43-48 months', '49-54 months', '55-60 months',\n",
    "          '61-66 months', '67-72 months', '73-78 months', '79-84 months', '85-90 months',\n",
    "          '91-96 months', '97-102 months', '103-108 months', '109-114 months', '115-120 months', '> 120 months']\n",
    "df_filtered['EMPLOYEMENT_DURATION_GROUP'] = pd.cut(df_filtered['EMPLOYEMENT_DURATION_MONTHS'], bins=bins, labels=labels)\n",
    "\n",
    "# Group by the new category and calculate the mean default rate\n",
    "default_rates_by_employment_duration = df_filtered.groupby('EMPLOYEMENT_DURATION_GROUP')['TARGET'].mean().reset_index()\n",
    "\n",
    "# Plotting\n",
    "plt.figure(figsize=(16, 8))\n",
    "sns.barplot(x='EMPLOYEMENT_DURATION_GROUP', y='TARGET', data=default_rates_by_employment_duration)\n",
    "plt.title('Default Rates by Employment Duration')\n",
    "plt.xlabel('Employment Duration Ranges (Half-Year Increments)')\n",
    "plt.ylabel('Default Rate')\n",
    "plt.xticks(rotation=90)  # Rotate labels for better readability\n",
    "plt.grid(True)\n",
    "plt.show()\n"
   ]
  },
  {
   "cell_type": "markdown",
   "id": "0bfbe930",
   "metadata": {},
   "source": [
    "# EMPLOYEMENT DURATION"
   ]
  },
  {
   "cell_type": "code",
   "execution_count": 56,
   "id": "4b959045",
   "metadata": {
    "scrolled": true
   },
   "outputs": [
    {
     "name": "stdout",
     "output_type": "stream",
     "text": [
      "Default rates by region rating:\n"
     ]
    },
    {
     "data": {
      "text/plain": [
       "EMPLOYEMENT_DURATION_GROUP\n",
       "0-6 months      0.059348\n",
       "7-12 months     0.095604\n",
       "13-18 months    0.106102\n",
       "19-24 months    0.108147\n",
       "25-30 months    0.098256\n",
       "31-36 months    0.099613\n",
       "37-42 months    0.090101\n",
       "43-48 months    0.086883\n",
       "49-54 months    0.088427\n",
       "55-60 months    0.081033\n",
       "Name: TARGET, dtype: float64"
      ]
     },
     "execution_count": 56,
     "metadata": {},
     "output_type": "execute_result"
    }
   ],
   "source": [
    "default_rates_by_employement = df_filtered.groupby('EMPLOYEMENT_DURATION_GROUP')['TARGET'].mean()\n",
    "print(\"Default rates by region rating:\")\n",
    "default_rates_by_employement.head(10)"
   ]
  },
  {
   "cell_type": "markdown",
   "id": "7a09758d",
   "metadata": {},
   "source": [
    "# REGION RATING"
   ]
  },
  {
   "cell_type": "code",
   "execution_count": 58,
   "id": "0d5f55d8",
   "metadata": {},
   "outputs": [
    {
     "name": "stdout",
     "output_type": "stream",
     "text": [
      "Default rates by region rating:\n",
      "REGION_RATING_CLIENT\n",
      "1    0.047717\n",
      "2    0.073068\n",
      "3    0.099424\n",
      "Name: TARGET, dtype: float64\n"
     ]
    }
   ],
   "source": [
    "# Analyze default rates by region rating\n",
    "default_rates_by_region = df_filtered.groupby('REGION_RATING_CLIENT')['TARGET'].mean()\n",
    "print(\"Default rates by region rating:\")\n",
    "print(default_rates_by_region)"
   ]
  },
  {
   "cell_type": "code",
   "execution_count": 59,
   "id": "82c2498a",
   "metadata": {},
   "outputs": [
    {
     "data": {
      "image/png": "[encoded data removed]",
      "text/plain": [
       "<Figure size 1000x500 with 1 Axes>"
      ]
     },
     "metadata": {},
     "output_type": "display_data"
    }
   ],
   "source": [
    "plt.figure(figsize=(10, 5))\n",
    "sns.barplot(x='REGION_RATING_CLIENT', y='TARGET', data=df_filtered)\n",
    "plt.title('Default Rates by Region Rating')\n",
    "plt.xlabel('Region Rating')\n",
    "plt.ylabel('Default Rate')\n",
    "plt.grid(True)\n",
    "plt.show()"
   ]
  },
  {
   "cell_type": "code",
   "execution_count": 60,
   "id": "609db68c",
   "metadata": {},
   "outputs": [
    {
     "name": "stdout",
     "output_type": "stream",
     "text": [
      "T-statistic: 9.147692345329073, P-value: 6.699452546979426e-20\n",
      "There is a statistically significant difference in default rates\n"
     ]
    }
   ],
   "source": [
    "group_with_region_rating_client = df_filtered[df_filtered['REGION_RATING_CLIENT'] == 3]['TARGET']\n",
    "group_others = df_filtered[df_filtered['REGION_RATING_CLIENT'] != 3]['TARGET']\n",
    "\n",
    "# Perform t-test\n",
    "t_stat, p_value = stats.ttest_ind(group_with_region_rating_client, group_others, equal_var=False)\n",
    "\n",
    "print(f\"T-statistic: {t_stat}, P-value: {p_value}\")\n",
    "\n",
    "# Interpret results\n",
    "if p_value < 0.05:\n",
    "    print(\"There is a statistically significant difference in default rates\")\n",
    "else:\n",
    "    print(\"There is no statistically significant difference in default rates\")"
   ]
  },
  {
   "cell_type": "code",
   "execution_count": 61,
   "id": "e0878af3",
   "metadata": {},
   "outputs": [],
   "source": [
    "categories = ['EMPLOYMENT_DURATION', 'END_DATE_AGE_YEARS', 'CREDIT_AGE_YEARS', 'AGE_GROUP', 'CODE_GENDER', 'CNT_CHILDREN']"
   ]
  },
  {
   "cell_type": "markdown",
   "id": "25c10cbe",
   "metadata": {},
   "source": [
    "# how many days passed from previous credit"
   ]
  },
  {
   "cell_type": "code",
   "execution_count": 62,
   "id": "d0f3ae8d",
   "metadata": {},
   "outputs": [
    {
     "name": "stdout",
     "output_type": "stream",
     "text": [
      "Default rates by months since last enddate:\n",
      "END_DATE_AGE_YEARS\n",
      "0-2 years      0.086262\n",
      "2-5 years      0.067484\n",
      "5-10 years          NaN\n",
      "10-15 years         NaN\n",
      "15-20 years         NaN\n",
      "Name: TARGET, dtype: float64\n"
     ]
    }
   ],
   "source": [
    "#DAYS_ENDDATE_FACT, how many days passed from previous credit\n",
    "end_date = df_filtered.groupby('END_DATE_AGE_YEARS')['TARGET'].mean()\n",
    "print(\"Default rates by months since last enddate:\")\n",
    "print(end_date)"
   ]
  },
  {
   "cell_type": "code",
   "execution_count": 63,
   "id": "e5053e18",
   "metadata": {},
   "outputs": [
    {
     "data": {
      "image/png": "[encoded data removed]",
      "text/plain": [
       "<Figure size 1000x600 with 1 Axes>"
      ]
     },
     "metadata": {},
     "output_type": "display_data"
    }
   ],
   "source": [
    "plt.figure(figsize=(10, 6))\n",
    "sns.barplot(x='END_DATE_AGE_YEARS', y='TARGET', data=df_filtered)\n",
    "plt.title('Default Rates by Years Since Last End Date')\n",
    "plt.xlabel('Years Since Last End Date')\n",
    "plt.ylabel('Default Rate')\n",
    "plt.xticks(rotation=45)\n",
    "plt.grid(True)\n",
    "plt.show()"
   ]
  },
  {
   "cell_type": "code",
   "execution_count": 64,
   "id": "245d0b49",
   "metadata": {},
   "outputs": [
    {
     "name": "stdout",
     "output_type": "stream",
     "text": [
      "T-statistic: 8.606917885128352, P-value: 7.729722429956227e-18\n",
      "There is a statistically significant difference in default rates\n"
     ]
    }
   ],
   "source": [
    "import scipy.stats as stats\n",
    "\n",
    "\n",
    "end_group_0_2 = df_filtered[df_filtered['END_DATE_AGE_YEARS'] == '0-2 years']['TARGET']\n",
    "group_others = df_filtered[df_filtered['END_DATE_AGE_YEARS'] != '0-2 years']['TARGET']\n",
    "\n",
    "# Perform t-test\n",
    "t_stat, p_value = stats.ttest_ind(end_group_0_2, group_others, equal_var=False)\n",
    "\n",
    "print(f\"T-statistic: {t_stat}, P-value: {p_value}\")\n",
    "\n",
    "# Interpret results\n",
    "if p_value < 0.05:\n",
    "    print(\"There is a statistically significant difference in default rates\")\n",
    "else:\n",
    "    print(\"There is no statistically significant difference in default rates\")"
   ]
  },
  {
   "cell_type": "markdown",
   "id": "36bc638f",
   "metadata": {},
   "source": [
    "# when they applied for the credit"
   ]
  },
  {
   "cell_type": "code",
   "execution_count": 65,
   "id": "59c84d36",
   "metadata": {
    "scrolled": true
   },
   "outputs": [
    {
     "name": "stdout",
     "output_type": "stream",
     "text": [
      "Default rates by credit age group:\n",
      "CREDIT_AGE_YEARS\n",
      "0-2 years      0.097315\n",
      "2-5 years      0.069508\n",
      "5-10 years     0.063397\n",
      "10-15 years         NaN\n",
      "15-20 years         NaN\n",
      "Name: TARGET, dtype: float64\n"
     ]
    }
   ],
   "source": [
    "#DAYS_CREDIT, when they applied for the credit\n",
    "credit_analysis = df_filtered.groupby('CREDIT_AGE_YEARS')['TARGET'].mean()\n",
    "print(\"Default rates by credit age group:\")\n",
    "print(credit_analysis)"
   ]
  },
  {
   "cell_type": "code",
   "execution_count": 66,
   "id": "ccd64324",
   "metadata": {},
   "outputs": [
    {
     "data": {
      "image/png": "[encoded data removed]",
      "text/plain": [
       "<Figure size 1000x600 with 1 Axes>"
      ]
     },
     "metadata": {},
     "output_type": "display_data"
    }
   ],
   "source": [
    "plt.figure(figsize=(10, 6))\n",
    "sns.barplot(x='CREDIT_AGE_YEARS', y='TARGET', data=df_filtered)\n",
    "plt.title('Default Rates by Credit Age')\n",
    "plt.xlabel('Credit Age (Years)')\n",
    "plt.ylabel('Default Rate')\n",
    "plt.xticks(rotation=45)\n",
    "plt.grid(True)\n",
    "plt.show()"
   ]
  },
  {
   "cell_type": "code",
   "execution_count": 68,
   "id": "3dbe6b8a",
   "metadata": {},
   "outputs": [
    {
     "name": "stdout",
     "output_type": "stream",
     "text": [
      "T-statistic: 10.28206259252808, P-value: 9.860555786971942e-25\n",
      "There is a statistically significant difference in default rates \n"
     ]
    }
   ],
   "source": [
    "import scipy.stats as stats\n",
    "\n",
    "\n",
    "group_credit_age_years = df_filtered[df_filtered['CREDIT_AGE_YEARS'] == '0-2 years']['TARGET']\n",
    "group_others = df_filtered[df_filtered['CREDIT_AGE_YEARS'] != '0-2 years']['TARGET']\n",
    "\n",
    "# Perform t-test\n",
    "t_stat, p_value = stats.ttest_ind(group_credit_age_years, group_others, equal_var=False)\n",
    "\n",
    "print(f\"T-statistic: {t_stat}, P-value: {p_value}\")\n",
    "\n",
    "# Interpret results\n",
    "if p_value < 0.05:\n",
    "    print(\"There is a statistically significant difference in default rates \")\n",
    "else:\n",
    "    print(\"There is no statistically significant difference in default rates \")"
   ]
  },
  {
   "cell_type": "markdown",
   "id": "b9336498",
   "metadata": {},
   "source": [
    "# DAYS_BIRTH"
   ]
  },
  {
   "cell_type": "code",
   "execution_count": 69,
   "id": "305e9507",
   "metadata": {
    "scrolled": true
   },
   "outputs": [
    {
     "name": "stdout",
     "output_type": "stream",
     "text": [
      "Default rates by age group: \n",
      "AGE_GROUP\n",
      "20-30    0.102007\n",
      "30-40    0.090392\n",
      "40-50    0.071441\n",
      "50-60    0.058063\n",
      "60-70    0.044191\n",
      "Name: TARGET, dtype: float64\n"
     ]
    }
   ],
   "source": [
    "#DAYS_BIRTH\n",
    "age_analysis = df_filtered.groupby('AGE_GROUP')['TARGET'].mean()\n",
    "print(\"Default rates by age group: \")\n",
    "print(age_analysis)"
   ]
  },
  {
   "cell_type": "code",
   "execution_count": 70,
   "id": "5cf09a77",
   "metadata": {},
   "outputs": [
    {
     "data": {
      "image/png": "[encoded data removed]",
      "text/plain": [
       "<Figure size 1000x600 with 1 Axes>"
      ]
     },
     "metadata": {},
     "output_type": "display_data"
    }
   ],
   "source": [
    "plt.figure(figsize=(10, 6))\n",
    "sns.barplot(x='AGE_GROUP', y='TARGET', data=df_filtered)\n",
    "plt.title('Default Rates by Age Group')\n",
    "plt.xlabel('Age Group')\n",
    "plt.ylabel('Default Rate')\n",
    "plt.xticks(rotation=45)\n",
    "plt.grid(True)\n",
    "plt.show()"
   ]
  },
  {
   "cell_type": "code",
   "execution_count": 72,
   "id": "0231ffd0",
   "metadata": {},
   "outputs": [
    {
     "name": "stdout",
     "output_type": "stream",
     "text": [
      "T-statistic: 9.037176351268549, P-value: 1.898388138728004e-19\n",
      "There is a statistically significant difference in default rates \n"
     ]
    }
   ],
   "source": [
    "import scipy.stats as stats\n",
    "\n",
    "\n",
    "group_age_group = df_filtered[df_filtered['AGE_GROUP'] == '20-30']['TARGET']\n",
    "group_others = df_filtered[df_filtered['AGE_GROUP'] != '20-30']['TARGET']\n",
    "\n",
    "# Perform t-test\n",
    "t_stat, p_value = stats.ttest_ind(group_age_group, group_others, equal_var=False)\n",
    "\n",
    "print(f\"T-statistic: {t_stat}, P-value: {p_value}\")\n",
    "\n",
    "# Interpret results\n",
    "if p_value < 0.05:\n",
    "    print(\"There is a statistically significant difference in default rates \")\n",
    "else:\n",
    "    print(\"There is no statistically significant difference in default rates \")\n"
   ]
  },
  {
   "cell_type": "markdown",
   "id": "0d815ce6",
   "metadata": {},
   "source": [
    "# GENDER"
   ]
  },
  {
   "cell_type": "code",
   "execution_count": 73,
   "id": "e5e35dd1",
   "metadata": {
    "scrolled": true
   },
   "outputs": [
    {
     "name": "stdout",
     "output_type": "stream",
     "text": [
      "CODE_GENDER\n",
      "F    0.064690\n",
      "M    0.094357\n",
      "Name: TARGET, dtype: float64\n"
     ]
    }
   ],
   "source": [
    "gender_analysis = df_filtered.groupby('CODE_GENDER')['TARGET'].mean()\n",
    "print(gender_analysis)"
   ]
  },
  {
   "cell_type": "code",
   "execution_count": 74,
   "id": "d7df7f2b",
   "metadata": {},
   "outputs": [
    {
     "data": {
      "image/png": "[encoded data removed]",
      "text/plain": [
       "<Figure size 1000x600 with 1 Axes>"
      ]
     },
     "metadata": {},
     "output_type": "display_data"
    }
   ],
   "source": [
    "plt.figure(figsize=(10, 6))\n",
    "sns.barplot(x='CODE_GENDER', y='TARGET', data=df_filtered)\n",
    "plt.title('Default Rates by Gender')\n",
    "plt.xlabel('Gender')\n",
    "plt.ylabel('Default Rate')\n",
    "plt.grid(True)\n",
    "plt.show()\n"
   ]
  },
  {
   "cell_type": "code",
   "execution_count": 75,
   "id": "bc76a311",
   "metadata": {
    "scrolled": true
   },
   "outputs": [
    {
     "name": "stdout",
     "output_type": "stream",
     "text": [
      "T-statistic: 28.822384318485636, P-value: 2.867184853665532e-182\n",
      "There is a statistically significant difference in default rates \n"
     ]
    }
   ],
   "source": [
    "group_M = df[df['CODE_GENDER'] == 'M']['TARGET']\n",
    "group_others = df[df['CODE_GENDER'] != 'M']['TARGET']\n",
    "\n",
    "# Perform t-test\n",
    "t_stat, p_value = stats.ttest_ind(group_M, group_others, equal_var=False)\n",
    "\n",
    "print(f\"T-statistic: {t_stat}, P-value: {p_value}\")\n",
    "\n",
    "# Interpret results\n",
    "if p_value < 0.05:\n",
    "    print(\"There is a statistically significant difference in default rates \")\n",
    "else:\n",
    "    print(\"There is no statistically significant difference in default rates \")"
   ]
  },
  {
   "cell_type": "markdown",
   "id": "df18404a",
   "metadata": {},
   "source": [
    "# CNT_CHILDREN"
   ]
  },
  {
   "cell_type": "code",
   "execution_count": 76,
   "id": "24c43231",
   "metadata": {},
   "outputs": [
    {
     "name": "stdout",
     "output_type": "stream",
     "text": [
      "Default rates by CNT_CHILDREN\n",
      "CNT_CHILDREN\n",
      "0     0.070198\n",
      "1     0.084758\n",
      "2     0.083058\n",
      "3     0.090323\n",
      "4     0.154762\n",
      "5     0.111111\n",
      "6     1.000000\n",
      "7     0.000000\n",
      "9     1.000000\n",
      "12    0.000000\n",
      "14    0.000000\n",
      "Name: TARGET, dtype: float64\n"
     ]
    }
   ],
   "source": [
    "cnt_children_analysis = df_filtered.groupby('CNT_CHILDREN')['TARGET'].mean()\n",
    "print(\"Default rates by CNT_CHILDREN\")\n",
    "print(cnt_children_analysis)"
   ]
  },
  {
   "cell_type": "code",
   "execution_count": 77,
   "id": "3ed2829a",
   "metadata": {},
   "outputs": [
    {
     "data": {
      "image/png": "[encoded data removed]",
      "text/plain": [
       "<Figure size 1000x600 with 1 Axes>"
      ]
     },
     "metadata": {},
     "output_type": "display_data"
    }
   ],
   "source": [
    "plt.figure(figsize=(10, 6))\n",
    "sns.barplot(x='CNT_CHILDREN', y='TARGET', data=df_filtered)\n",
    "plt.title('Default Rates by Count of Children')\n",
    "plt.xlabel('Number of Children')\n",
    "plt.ylabel('Default Rate')\n",
    "plt.xticks(rotation=45)\n",
    "plt.grid(True)\n",
    "plt.show()\n"
   ]
  },
  {
   "cell_type": "code",
   "execution_count": 78,
   "id": "61552737",
   "metadata": {},
   "outputs": [
    {
     "name": "stdout",
     "output_type": "stream",
     "text": [
      "T-statistic: 2.020579233604997, P-value: 0.04654335028704548\n",
      "There is a statistically significant difference in default rates \n"
     ]
    }
   ],
   "source": [
    "group_cnt_children = df_filtered[df_filtered['CNT_CHILDREN'] == 4]['TARGET']\n",
    "group_others = df_filtered[df_filtered['CNT_CHILDREN'] != 4]['TARGET']\n",
    "\n",
    "# Perform t-test\n",
    "t_stat, p_value = stats.ttest_ind(group_cnt_children, group_others, equal_var=False)\n",
    "\n",
    "print(f\"T-statistic: {t_stat}, P-value: {p_value}\")\n",
    "\n",
    "# Interpret results\n",
    "if p_value < 0.05:\n",
    "    print(\"There is a statistically significant difference in default rates \")\n",
    "else:\n",
    "    print(\"There is no statistically significant difference in default rates \")"
   ]
  },
  {
   "cell_type": "markdown",
   "id": "e98788a2",
   "metadata": {},
   "source": [
    "# Payment_Analysis"
   ]
  },
  {
   "cell_type": "code",
   "execution_count": 79,
   "id": "9deef363",
   "metadata": {},
   "outputs": [
    {
     "name": "stdout",
     "output_type": "stream",
     "text": [
      "PAYMENT_AMT\n",
      "Low          0.082666\n",
      "Medium       0.082239\n",
      "High         0.072314\n",
      "Very High    0.061275\n",
      "Name: TARGET, dtype: float64\n"
     ]
    }
   ],
   "source": [
    "payment_analysis = df_filtered.groupby('PAYMENT_AMT')['TARGET'].mean()\n",
    "print(payment_analysis)"
   ]
  },
  {
   "cell_type": "code",
   "execution_count": 80,
   "id": "c1c99385",
   "metadata": {},
   "outputs": [
    {
     "data": {
      "image/png": "[encoded data removed]",
      "text/plain": [
       "<Figure size 1000x600 with 1 Axes>"
      ]
     },
     "metadata": {},
     "output_type": "display_data"
    }
   ],
   "source": [
    "plt.figure(figsize=(10, 6))\n",
    "sns.barplot(x='PAYMENT_AMT', y='TARGET', data=df_filtered)\n",
    "plt.title('Default Rates by Amount of Payment')\n",
    "plt.xlabel('Amount of Payment')\n",
    "plt.ylabel('Default Rate')\n",
    "plt.xticks(rotation=45)\n",
    "plt.grid(True)\n",
    "plt.show()"
   ]
  },
  {
   "cell_type": "code",
   "execution_count": 336,
   "id": "12f88e6c",
   "metadata": {},
   "outputs": [],
   "source": [
    "# age_group_risk_factor = 0.8\n",
    "# df_filtered.loc[(df_filtered['AGE_YEARS'] >= 20) & (df_filtered['AGE_YEARS'] <= 30), 'AMT_CREDIT'] *= age_group_risk_factor\n",
    "\n",
    "# # Assume a binary Loan_Status column to simulate loan approval based on employment duration\n",
    "# df_filtered['Loan_Status'] = np.where(df_filtered['DAYS_EMPLOYED'] / -365 >= 5, 1, 0)\n",
    "\n",
    "# # Adjust loan amount for medium goods price range\n",
    "# goods_price_adjustment = 0.9  # 10% reduction in loan amount for medium range goods\n",
    "# df_filtered['AMT_CREDIT_x'] = df_filtered.loc[df_filtered['GOOD_PRICE'] == 'Medium', 'AMT_CREDIT'] * goods_price_adjustment\n",
    "\n",
    "# # Adjust annuity as a substitute for interest rate\n",
    "# df_filtered['AMT_ANNUITY_x'] = df_filtered.loc[df_filtered['REGION_RATING_CLIENT'] == 3, 'AMT_ANNUITY'] * 1.1  # 10% increase in annuity\n",
    "\n",
    "# # Print out the adjusted data to verify changes\n",
    "# print(df_filtered[['AGE_YEARS', 'AMT_CREDIT', 'Loan_Status', 'AMT_ANNUITY']].head())\n"
   ]
  },
  {
   "cell_type": "code",
   "execution_count": 343,
   "id": "496a276b",
   "metadata": {},
   "outputs": [
    {
     "data": {
      "text/html": [
       "<div>\n",
       "<style scoped>\n",
       "    .dataframe tbody tr th:only-of-type {\n",
       "        vertical-align: middle;\n",
       "    }\n",
       "\n",
       "    .dataframe tbody tr th {\n",
       "        vertical-align: top;\n",
       "    }\n",
       "\n",
       "    .dataframe thead th {\n",
       "        text-align: right;\n",
       "    }\n",
       "</style>\n",
       "<table border=\"1\" class=\"dataframe\">\n",
       "  <thead>\n",
       "    <tr style=\"text-align: right;\">\n",
       "      <th></th>\n",
       "      <th>TARGET</th>\n",
       "      <th>NAME_CONTRACT_TYPE</th>\n",
       "      <th>CODE_GENDER</th>\n",
       "      <th>FLAG_OWN_CAR</th>\n",
       "      <th>FLAG_OWN_REALTY</th>\n",
       "      <th>CNT_CHILDREN</th>\n",
       "      <th>AMT_CREDIT</th>\n",
       "      <th>AMT_ANNUITY</th>\n",
       "      <th>AMT_GOODS_PRICE</th>\n",
       "      <th>NAME_TYPE_SUITE</th>\n",
       "      <th>...</th>\n",
       "      <th>AGE_YEARS</th>\n",
       "      <th>AGE_GROUP</th>\n",
       "      <th>YEARS_CREDIT</th>\n",
       "      <th>YEARS_ENDDATE_FACT</th>\n",
       "      <th>CREDIT_AGE_YEARS</th>\n",
       "      <th>END_DATE_AGE_YEARS</th>\n",
       "      <th>MONTHS_EMPLOYED</th>\n",
       "      <th>EMPLOYEMENT_DURATION</th>\n",
       "      <th>PAYMENT_AMT</th>\n",
       "      <th>GOOD_PRICE</th>\n",
       "    </tr>\n",
       "  </thead>\n",
       "  <tbody>\n",
       "    <tr>\n",
       "      <th>0</th>\n",
       "      <td>1</td>\n",
       "      <td>Cash loans</td>\n",
       "      <td>M</td>\n",
       "      <td>N</td>\n",
       "      <td>Y</td>\n",
       "      <td>0</td>\n",
       "      <td>406597.5</td>\n",
       "      <td>24700.5</td>\n",
       "      <td>351000.0</td>\n",
       "      <td>Unaccompanied</td>\n",
       "      <td>...</td>\n",
       "      <td>25.920548</td>\n",
       "      <td>20-30</td>\n",
       "      <td>2.819804</td>\n",
       "      <td>2.271468</td>\n",
       "      <td>2-5 years</td>\n",
       "      <td>2-5 years</td>\n",
       "      <td>-20</td>\n",
       "      <td>6-12 month</td>\n",
       "      <td>High</td>\n",
       "      <td>Medium</td>\n",
       "    </tr>\n",
       "    <tr>\n",
       "      <th>7</th>\n",
       "      <td>0</td>\n",
       "      <td>Cash loans</td>\n",
       "      <td>M</td>\n",
       "      <td>Y</td>\n",
       "      <td>Y</td>\n",
       "      <td>0</td>\n",
       "      <td>1530000.0</td>\n",
       "      <td>42075.0</td>\n",
       "      <td>1530000.0</td>\n",
       "      <td>Unaccompanied</td>\n",
       "      <td>...</td>\n",
       "      <td>51.643836</td>\n",
       "      <td>50-60</td>\n",
       "      <td>7.509589</td>\n",
       "      <td>3.117808</td>\n",
       "      <td>5-10 years</td>\n",
       "      <td>2-5 years</td>\n",
       "      <td>-14</td>\n",
       "      <td>12-18 month</td>\n",
       "      <td>Very High</td>\n",
       "      <td>Very High</td>\n",
       "    </tr>\n",
       "    <tr>\n",
       "      <th>28</th>\n",
       "      <td>0</td>\n",
       "      <td>Cash loans</td>\n",
       "      <td>M</td>\n",
       "      <td>Y</td>\n",
       "      <td>Y</td>\n",
       "      <td>0</td>\n",
       "      <td>790830.0</td>\n",
       "      <td>57676.5</td>\n",
       "      <td>675000.0</td>\n",
       "      <td>Unaccompanied</td>\n",
       "      <td>...</td>\n",
       "      <td>27.380822</td>\n",
       "      <td>20-30</td>\n",
       "      <td>0.534247</td>\n",
       "      <td>2.457534</td>\n",
       "      <td>0-2 years</td>\n",
       "      <td>2-5 years</td>\n",
       "      <td>-59</td>\n",
       "      <td>NaN</td>\n",
       "      <td>Low</td>\n",
       "      <td>High</td>\n",
       "    </tr>\n",
       "    <tr>\n",
       "      <th>32</th>\n",
       "      <td>0</td>\n",
       "      <td>Cash loans</td>\n",
       "      <td>F</td>\n",
       "      <td>N</td>\n",
       "      <td>N</td>\n",
       "      <td>0</td>\n",
       "      <td>199008.0</td>\n",
       "      <td>20893.5</td>\n",
       "      <td>180000.0</td>\n",
       "      <td>Unaccompanied</td>\n",
       "      <td>...</td>\n",
       "      <td>35.545205</td>\n",
       "      <td>30-40</td>\n",
       "      <td>4.063191</td>\n",
       "      <td>3.432366</td>\n",
       "      <td>2-5 years</td>\n",
       "      <td>2-5 years</td>\n",
       "      <td>-144</td>\n",
       "      <td>NaN</td>\n",
       "      <td>Very High</td>\n",
       "      <td>Low</td>\n",
       "    </tr>\n",
       "    <tr>\n",
       "      <th>41</th>\n",
       "      <td>0</td>\n",
       "      <td>Cash loans</td>\n",
       "      <td>F</td>\n",
       "      <td>N</td>\n",
       "      <td>Y</td>\n",
       "      <td>0</td>\n",
       "      <td>604152.0</td>\n",
       "      <td>29196.0</td>\n",
       "      <td>540000.0</td>\n",
       "      <td>Unaccompanied</td>\n",
       "      <td>...</td>\n",
       "      <td>46.495890</td>\n",
       "      <td>40-50</td>\n",
       "      <td>0.205479</td>\n",
       "      <td>0.180822</td>\n",
       "      <td>0-2 years</td>\n",
       "      <td>0-2 years</td>\n",
       "      <td>-15</td>\n",
       "      <td>12-18 month</td>\n",
       "      <td>Low</td>\n",
       "      <td>High</td>\n",
       "    </tr>\n",
       "    <tr>\n",
       "      <th>...</th>\n",
       "      <td>...</td>\n",
       "      <td>...</td>\n",
       "      <td>...</td>\n",
       "      <td>...</td>\n",
       "      <td>...</td>\n",
       "      <td>...</td>\n",
       "      <td>...</td>\n",
       "      <td>...</td>\n",
       "      <td>...</td>\n",
       "      <td>...</td>\n",
       "      <td>...</td>\n",
       "      <td>...</td>\n",
       "      <td>...</td>\n",
       "      <td>...</td>\n",
       "      <td>...</td>\n",
       "      <td>...</td>\n",
       "      <td>...</td>\n",
       "      <td>...</td>\n",
       "      <td>...</td>\n",
       "      <td>...</td>\n",
       "      <td>...</td>\n",
       "    </tr>\n",
       "    <tr>\n",
       "      <th>307490</th>\n",
       "      <td>0</td>\n",
       "      <td>Cash loans</td>\n",
       "      <td>M</td>\n",
       "      <td>Y</td>\n",
       "      <td>Y</td>\n",
       "      <td>2</td>\n",
       "      <td>1078200.0</td>\n",
       "      <td>31522.5</td>\n",
       "      <td>900000.0</td>\n",
       "      <td>Unaccompanied</td>\n",
       "      <td>...</td>\n",
       "      <td>30.071233</td>\n",
       "      <td>30-40</td>\n",
       "      <td>5.520085</td>\n",
       "      <td>3.662231</td>\n",
       "      <td>5-10 years</td>\n",
       "      <td>2-5 years</td>\n",
       "      <td>-64</td>\n",
       "      <td>NaN</td>\n",
       "      <td>Medium</td>\n",
       "      <td>Very High</td>\n",
       "    </tr>\n",
       "    <tr>\n",
       "      <th>307499</th>\n",
       "      <td>0</td>\n",
       "      <td>Cash loans</td>\n",
       "      <td>F</td>\n",
       "      <td>N</td>\n",
       "      <td>Y</td>\n",
       "      <td>0</td>\n",
       "      <td>1303812.0</td>\n",
       "      <td>35982.0</td>\n",
       "      <td>1138500.0</td>\n",
       "      <td>Unaccompanied</td>\n",
       "      <td>...</td>\n",
       "      <td>55.863014</td>\n",
       "      <td>50-60</td>\n",
       "      <td>4.746966</td>\n",
       "      <td>3.201382</td>\n",
       "      <td>2-5 years</td>\n",
       "      <td>2-5 years</td>\n",
       "      <td>-174</td>\n",
       "      <td>NaN</td>\n",
       "      <td>High</td>\n",
       "      <td>Very High</td>\n",
       "    </tr>\n",
       "    <tr>\n",
       "      <th>307502</th>\n",
       "      <td>0</td>\n",
       "      <td>Cash loans</td>\n",
       "      <td>F</td>\n",
       "      <td>N</td>\n",
       "      <td>Y</td>\n",
       "      <td>0</td>\n",
       "      <td>345510.0</td>\n",
       "      <td>17770.5</td>\n",
       "      <td>247500.0</td>\n",
       "      <td>Unaccompanied</td>\n",
       "      <td>...</td>\n",
       "      <td>32.520548</td>\n",
       "      <td>30-40</td>\n",
       "      <td>3.326268</td>\n",
       "      <td>2.729536</td>\n",
       "      <td>2-5 years</td>\n",
       "      <td>2-5 years</td>\n",
       "      <td>-13</td>\n",
       "      <td>12-18 month</td>\n",
       "      <td>Low</td>\n",
       "      <td>Low</td>\n",
       "    </tr>\n",
       "    <tr>\n",
       "      <th>307508</th>\n",
       "      <td>1</td>\n",
       "      <td>Cash loans</td>\n",
       "      <td>F</td>\n",
       "      <td>N</td>\n",
       "      <td>Y</td>\n",
       "      <td>0</td>\n",
       "      <td>370107.0</td>\n",
       "      <td>20205.0</td>\n",
       "      <td>319500.0</td>\n",
       "      <td>Unaccompanied</td>\n",
       "      <td>...</td>\n",
       "      <td>32.769863</td>\n",
       "      <td>30-40</td>\n",
       "      <td>3.024658</td>\n",
       "      <td>2.353425</td>\n",
       "      <td>2-5 years</td>\n",
       "      <td>2-5 years</td>\n",
       "      <td>-157</td>\n",
       "      <td>NaN</td>\n",
       "      <td>High</td>\n",
       "      <td>Medium</td>\n",
       "    </tr>\n",
       "    <tr>\n",
       "      <th>307509</th>\n",
       "      <td>0</td>\n",
       "      <td>Cash loans</td>\n",
       "      <td>F</td>\n",
       "      <td>N</td>\n",
       "      <td>N</td>\n",
       "      <td>0</td>\n",
       "      <td>675000.0</td>\n",
       "      <td>49117.5</td>\n",
       "      <td>675000.0</td>\n",
       "      <td>Unaccompanied</td>\n",
       "      <td>...</td>\n",
       "      <td>46.180822</td>\n",
       "      <td>40-50</td>\n",
       "      <td>2.730926</td>\n",
       "      <td>2.297883</td>\n",
       "      <td>2-5 years</td>\n",
       "      <td>2-5 years</td>\n",
       "      <td>-41</td>\n",
       "      <td>NaN</td>\n",
       "      <td>Very High</td>\n",
       "      <td>High</td>\n",
       "    </tr>\n",
       "  </tbody>\n",
       "</table>\n",
       "<p>64886 rows × 113 columns</p>\n",
       "</div>"
      ],
      "text/plain": [
       "        TARGET NAME_CONTRACT_TYPE CODE_GENDER FLAG_OWN_CAR FLAG_OWN_REALTY  \\\n",
       "0            1         Cash loans           M            N               Y   \n",
       "7            0         Cash loans           M            Y               Y   \n",
       "28           0         Cash loans           M            Y               Y   \n",
       "32           0         Cash loans           F            N               N   \n",
       "41           0         Cash loans           F            N               Y   \n",
       "...        ...                ...         ...          ...             ...   \n",
       "307490       0         Cash loans           M            Y               Y   \n",
       "307499       0         Cash loans           F            N               Y   \n",
       "307502       0         Cash loans           F            N               Y   \n",
       "307508       1         Cash loans           F            N               Y   \n",
       "307509       0         Cash loans           F            N               N   \n",
       "\n",
       "        CNT_CHILDREN  AMT_CREDIT  AMT_ANNUITY  AMT_GOODS_PRICE  \\\n",
       "0                  0    406597.5      24700.5         351000.0   \n",
       "7                  0   1530000.0      42075.0        1530000.0   \n",
       "28                 0    790830.0      57676.5         675000.0   \n",
       "32                 0    199008.0      20893.5         180000.0   \n",
       "41                 0    604152.0      29196.0         540000.0   \n",
       "...              ...         ...          ...              ...   \n",
       "307490             2   1078200.0      31522.5         900000.0   \n",
       "307499             0   1303812.0      35982.0        1138500.0   \n",
       "307502             0    345510.0      17770.5         247500.0   \n",
       "307508             0    370107.0      20205.0         319500.0   \n",
       "307509             0    675000.0      49117.5         675000.0   \n",
       "\n",
       "       NAME_TYPE_SUITE  ...  AGE_YEARS AGE_GROUP YEARS_CREDIT  \\\n",
       "0        Unaccompanied  ...  25.920548     20-30     2.819804   \n",
       "7        Unaccompanied  ...  51.643836     50-60     7.509589   \n",
       "28       Unaccompanied  ...  27.380822     20-30     0.534247   \n",
       "32       Unaccompanied  ...  35.545205     30-40     4.063191   \n",
       "41       Unaccompanied  ...  46.495890     40-50     0.205479   \n",
       "...                ...  ...        ...       ...          ...   \n",
       "307490   Unaccompanied  ...  30.071233     30-40     5.520085   \n",
       "307499   Unaccompanied  ...  55.863014     50-60     4.746966   \n",
       "307502   Unaccompanied  ...  32.520548     30-40     3.326268   \n",
       "307508   Unaccompanied  ...  32.769863     30-40     3.024658   \n",
       "307509   Unaccompanied  ...  46.180822     40-50     2.730926   \n",
       "\n",
       "       YEARS_ENDDATE_FACT  CREDIT_AGE_YEARS  END_DATE_AGE_YEARS  \\\n",
       "0                2.271468         2-5 years           2-5 years   \n",
       "7                3.117808        5-10 years           2-5 years   \n",
       "28               2.457534         0-2 years           2-5 years   \n",
       "32               3.432366         2-5 years           2-5 years   \n",
       "41               0.180822         0-2 years           0-2 years   \n",
       "...                   ...               ...                 ...   \n",
       "307490           3.662231        5-10 years           2-5 years   \n",
       "307499           3.201382         2-5 years           2-5 years   \n",
       "307502           2.729536         2-5 years           2-5 years   \n",
       "307508           2.353425         2-5 years           2-5 years   \n",
       "307509           2.297883         2-5 years           2-5 years   \n",
       "\n",
       "        MONTHS_EMPLOYED  EMPLOYEMENT_DURATION  PAYMENT_AMT  GOOD_PRICE  \n",
       "0                   -20            6-12 month         High      Medium  \n",
       "7                   -14           12-18 month    Very High   Very High  \n",
       "28                  -59                   NaN          Low        High  \n",
       "32                 -144                   NaN    Very High         Low  \n",
       "41                  -15           12-18 month          Low        High  \n",
       "...                 ...                   ...          ...         ...  \n",
       "307490              -64                   NaN       Medium   Very High  \n",
       "307499             -174                   NaN         High   Very High  \n",
       "307502              -13           12-18 month          Low         Low  \n",
       "307508             -157                   NaN         High      Medium  \n",
       "307509              -41                   NaN    Very High        High  \n",
       "\n",
       "[64886 rows x 113 columns]"
      ]
     },
     "execution_count": 343,
     "metadata": {},
     "output_type": "execute_result"
    }
   ],
   "source": [
    "df_filtered"
   ]
  },
  {
   "cell_type": "code",
   "execution_count": 339,
   "id": "a4aa861f",
   "metadata": {},
   "outputs": [
    {
     "data": {
      "text/html": [
       "<div>\n",
       "<style scoped>\n",
       "    .dataframe tbody tr th:only-of-type {\n",
       "        vertical-align: middle;\n",
       "    }\n",
       "\n",
       "    .dataframe tbody tr th {\n",
       "        vertical-align: top;\n",
       "    }\n",
       "\n",
       "    .dataframe thead th {\n",
       "        text-align: right;\n",
       "    }\n",
       "</style>\n",
       "<table border=\"1\" class=\"dataframe\">\n",
       "  <thead>\n",
       "    <tr style=\"text-align: right;\">\n",
       "      <th></th>\n",
       "      <th>TARGET</th>\n",
       "      <th>AGE_GROUP</th>\n",
       "      <th>CREDIT_AGE_YEARS</th>\n",
       "      <th>END_DATE_AGE_YEARS</th>\n",
       "      <th>GOOD_PRICE</th>\n",
       "      <th>EMPLOYEMENT_DURATION</th>\n",
       "      <th>CNT_CHILDREN</th>\n",
       "      <th>CODE_GENDER</th>\n",
       "      <th>REGION_RATING_CLIENT</th>\n",
       "      <th>NAME_INCOME_TYPE</th>\n",
       "      <th>NAME_FAMILY_STATUS</th>\n",
       "      <th>ORGANIZATION_TYPE</th>\n",
       "      <th>NAME_CONTRACT_TYPE</th>\n",
       "      <th>FLAG_OWN_CAR</th>\n",
       "      <th>AMT_CREDIT</th>\n",
       "      <th>AMT_ANNUITY</th>\n",
       "      <th>CNT_PAYMENT</th>\n",
       "    </tr>\n",
       "  </thead>\n",
       "  <tbody>\n",
       "    <tr>\n",
       "      <th>0</th>\n",
       "      <td>1</td>\n",
       "      <td>20-30</td>\n",
       "      <td>2-5 years</td>\n",
       "      <td>2-5 years</td>\n",
       "      <td>Medium</td>\n",
       "      <td>6-12 month</td>\n",
       "      <td>0</td>\n",
       "      <td>M</td>\n",
       "      <td>2</td>\n",
       "      <td>Working</td>\n",
       "      <td>Single / not married</td>\n",
       "      <td>Business Entity Type 3</td>\n",
       "      <td>Cash loans</td>\n",
       "      <td>N</td>\n",
       "      <td>406597.5</td>\n",
       "      <td>24700.5</td>\n",
       "      <td>0.0</td>\n",
       "    </tr>\n",
       "    <tr>\n",
       "      <th>7</th>\n",
       "      <td>0</td>\n",
       "      <td>50-60</td>\n",
       "      <td>5-10 years</td>\n",
       "      <td>2-5 years</td>\n",
       "      <td>Very High</td>\n",
       "      <td>12-18 month</td>\n",
       "      <td>0</td>\n",
       "      <td>M</td>\n",
       "      <td>3</td>\n",
       "      <td>State servant</td>\n",
       "      <td>Married</td>\n",
       "      <td>Other</td>\n",
       "      <td>Cash loans</td>\n",
       "      <td>Y</td>\n",
       "      <td>1530000.0</td>\n",
       "      <td>42075.0</td>\n",
       "      <td>0.0</td>\n",
       "    </tr>\n",
       "    <tr>\n",
       "      <th>28</th>\n",
       "      <td>0</td>\n",
       "      <td>20-30</td>\n",
       "      <td>0-2 years</td>\n",
       "      <td>2-5 years</td>\n",
       "      <td>High</td>\n",
       "      <td>NaN</td>\n",
       "      <td>0</td>\n",
       "      <td>M</td>\n",
       "      <td>1</td>\n",
       "      <td>State servant</td>\n",
       "      <td>Single / not married</td>\n",
       "      <td>Military</td>\n",
       "      <td>Cash loans</td>\n",
       "      <td>Y</td>\n",
       "      <td>790830.0</td>\n",
       "      <td>57676.5</td>\n",
       "      <td>0.0</td>\n",
       "    </tr>\n",
       "    <tr>\n",
       "      <th>32</th>\n",
       "      <td>0</td>\n",
       "      <td>30-40</td>\n",
       "      <td>2-5 years</td>\n",
       "      <td>2-5 years</td>\n",
       "      <td>Low</td>\n",
       "      <td>NaN</td>\n",
       "      <td>0</td>\n",
       "      <td>F</td>\n",
       "      <td>2</td>\n",
       "      <td>Working</td>\n",
       "      <td>Civil marriage</td>\n",
       "      <td>Business Entity Type 2</td>\n",
       "      <td>Cash loans</td>\n",
       "      <td>N</td>\n",
       "      <td>199008.0</td>\n",
       "      <td>20893.5</td>\n",
       "      <td>12.0</td>\n",
       "    </tr>\n",
       "    <tr>\n",
       "      <th>41</th>\n",
       "      <td>0</td>\n",
       "      <td>40-50</td>\n",
       "      <td>0-2 years</td>\n",
       "      <td>0-2 years</td>\n",
       "      <td>High</td>\n",
       "      <td>12-18 month</td>\n",
       "      <td>0</td>\n",
       "      <td>F</td>\n",
       "      <td>2</td>\n",
       "      <td>Working</td>\n",
       "      <td>Married</td>\n",
       "      <td>Industry: type 1</td>\n",
       "      <td>Cash loans</td>\n",
       "      <td>N</td>\n",
       "      <td>604152.0</td>\n",
       "      <td>29196.0</td>\n",
       "      <td>12.0</td>\n",
       "    </tr>\n",
       "    <tr>\n",
       "      <th>...</th>\n",
       "      <td>...</td>\n",
       "      <td>...</td>\n",
       "      <td>...</td>\n",
       "      <td>...</td>\n",
       "      <td>...</td>\n",
       "      <td>...</td>\n",
       "      <td>...</td>\n",
       "      <td>...</td>\n",
       "      <td>...</td>\n",
       "      <td>...</td>\n",
       "      <td>...</td>\n",
       "      <td>...</td>\n",
       "      <td>...</td>\n",
       "      <td>...</td>\n",
       "      <td>...</td>\n",
       "      <td>...</td>\n",
       "      <td>...</td>\n",
       "    </tr>\n",
       "    <tr>\n",
       "      <th>307490</th>\n",
       "      <td>0</td>\n",
       "      <td>30-40</td>\n",
       "      <td>5-10 years</td>\n",
       "      <td>2-5 years</td>\n",
       "      <td>Very High</td>\n",
       "      <td>NaN</td>\n",
       "      <td>2</td>\n",
       "      <td>M</td>\n",
       "      <td>2</td>\n",
       "      <td>Commercial associate</td>\n",
       "      <td>Married</td>\n",
       "      <td>Self-employed</td>\n",
       "      <td>Cash loans</td>\n",
       "      <td>Y</td>\n",
       "      <td>1078200.0</td>\n",
       "      <td>31522.5</td>\n",
       "      <td>0.0</td>\n",
       "    </tr>\n",
       "    <tr>\n",
       "      <th>307499</th>\n",
       "      <td>0</td>\n",
       "      <td>50-60</td>\n",
       "      <td>2-5 years</td>\n",
       "      <td>2-5 years</td>\n",
       "      <td>Very High</td>\n",
       "      <td>NaN</td>\n",
       "      <td>0</td>\n",
       "      <td>F</td>\n",
       "      <td>2</td>\n",
       "      <td>Working</td>\n",
       "      <td>Married</td>\n",
       "      <td>Business Entity Type 3</td>\n",
       "      <td>Cash loans</td>\n",
       "      <td>N</td>\n",
       "      <td>1303812.0</td>\n",
       "      <td>35982.0</td>\n",
       "      <td>12.0</td>\n",
       "    </tr>\n",
       "    <tr>\n",
       "      <th>307502</th>\n",
       "      <td>0</td>\n",
       "      <td>30-40</td>\n",
       "      <td>2-5 years</td>\n",
       "      <td>2-5 years</td>\n",
       "      <td>Low</td>\n",
       "      <td>12-18 month</td>\n",
       "      <td>0</td>\n",
       "      <td>F</td>\n",
       "      <td>2</td>\n",
       "      <td>Commercial associate</td>\n",
       "      <td>Single / not married</td>\n",
       "      <td>Bank</td>\n",
       "      <td>Cash loans</td>\n",
       "      <td>N</td>\n",
       "      <td>345510.0</td>\n",
       "      <td>17770.5</td>\n",
       "      <td>0.0</td>\n",
       "    </tr>\n",
       "    <tr>\n",
       "      <th>307508</th>\n",
       "      <td>1</td>\n",
       "      <td>30-40</td>\n",
       "      <td>2-5 years</td>\n",
       "      <td>2-5 years</td>\n",
       "      <td>Medium</td>\n",
       "      <td>NaN</td>\n",
       "      <td>0</td>\n",
       "      <td>F</td>\n",
       "      <td>2</td>\n",
       "      <td>Commercial associate</td>\n",
       "      <td>Married</td>\n",
       "      <td>Business Entity Type 1</td>\n",
       "      <td>Cash loans</td>\n",
       "      <td>N</td>\n",
       "      <td>370107.0</td>\n",
       "      <td>20205.0</td>\n",
       "      <td>0.0</td>\n",
       "    </tr>\n",
       "    <tr>\n",
       "      <th>307509</th>\n",
       "      <td>0</td>\n",
       "      <td>40-50</td>\n",
       "      <td>2-5 years</td>\n",
       "      <td>2-5 years</td>\n",
       "      <td>High</td>\n",
       "      <td>NaN</td>\n",
       "      <td>0</td>\n",
       "      <td>F</td>\n",
       "      <td>1</td>\n",
       "      <td>Commercial associate</td>\n",
       "      <td>Married</td>\n",
       "      <td>Business Entity Type 3</td>\n",
       "      <td>Cash loans</td>\n",
       "      <td>N</td>\n",
       "      <td>675000.0</td>\n",
       "      <td>49117.5</td>\n",
       "      <td>0.0</td>\n",
       "    </tr>\n",
       "  </tbody>\n",
       "</table>\n",
       "<p>64886 rows × 17 columns</p>\n",
       "</div>"
      ],
      "text/plain": [
       "        TARGET AGE_GROUP CREDIT_AGE_YEARS END_DATE_AGE_YEARS GOOD_PRICE  \\\n",
       "0            1     20-30        2-5 years          2-5 years     Medium   \n",
       "7            0     50-60       5-10 years          2-5 years  Very High   \n",
       "28           0     20-30        0-2 years          2-5 years       High   \n",
       "32           0     30-40        2-5 years          2-5 years        Low   \n",
       "41           0     40-50        0-2 years          0-2 years       High   \n",
       "...        ...       ...              ...                ...        ...   \n",
       "307490       0     30-40       5-10 years          2-5 years  Very High   \n",
       "307499       0     50-60        2-5 years          2-5 years  Very High   \n",
       "307502       0     30-40        2-5 years          2-5 years        Low   \n",
       "307508       1     30-40        2-5 years          2-5 years     Medium   \n",
       "307509       0     40-50        2-5 years          2-5 years       High   \n",
       "\n",
       "       EMPLOYEMENT_DURATION  CNT_CHILDREN CODE_GENDER  REGION_RATING_CLIENT  \\\n",
       "0                6-12 month             0           M                     2   \n",
       "7               12-18 month             0           M                     3   \n",
       "28                      NaN             0           M                     1   \n",
       "32                      NaN             0           F                     2   \n",
       "41              12-18 month             0           F                     2   \n",
       "...                     ...           ...         ...                   ...   \n",
       "307490                  NaN             2           M                     2   \n",
       "307499                  NaN             0           F                     2   \n",
       "307502          12-18 month             0           F                     2   \n",
       "307508                  NaN             0           F                     2   \n",
       "307509                  NaN             0           F                     1   \n",
       "\n",
       "            NAME_INCOME_TYPE    NAME_FAMILY_STATUS       ORGANIZATION_TYPE  \\\n",
       "0                    Working  Single / not married  Business Entity Type 3   \n",
       "7              State servant               Married                   Other   \n",
       "28             State servant  Single / not married                Military   \n",
       "32                   Working        Civil marriage  Business Entity Type 2   \n",
       "41                   Working               Married        Industry: type 1   \n",
       "...                      ...                   ...                     ...   \n",
       "307490  Commercial associate               Married           Self-employed   \n",
       "307499               Working               Married  Business Entity Type 3   \n",
       "307502  Commercial associate  Single / not married                    Bank   \n",
       "307508  Commercial associate               Married  Business Entity Type 1   \n",
       "307509  Commercial associate               Married  Business Entity Type 3   \n",
       "\n",
       "       NAME_CONTRACT_TYPE FLAG_OWN_CAR  AMT_CREDIT  AMT_ANNUITY  CNT_PAYMENT  \n",
       "0              Cash loans            N    406597.5      24700.5          0.0  \n",
       "7              Cash loans            Y   1530000.0      42075.0          0.0  \n",
       "28             Cash loans            Y    790830.0      57676.5          0.0  \n",
       "32             Cash loans            N    199008.0      20893.5         12.0  \n",
       "41             Cash loans            N    604152.0      29196.0         12.0  \n",
       "...                   ...          ...         ...          ...          ...  \n",
       "307490         Cash loans            Y   1078200.0      31522.5          0.0  \n",
       "307499         Cash loans            N   1303812.0      35982.0         12.0  \n",
       "307502         Cash loans            N    345510.0      17770.5          0.0  \n",
       "307508         Cash loans            N    370107.0      20205.0          0.0  \n",
       "307509         Cash loans            N    675000.0      49117.5          0.0  \n",
       "\n",
       "[64886 rows x 17 columns]"
      ]
     },
     "execution_count": 339,
     "metadata": {},
     "output_type": "execute_result"
    }
   ],
   "source": [
    "df_filtered[['TARGET','AGE_GROUP', 'CREDIT_AGE_YEARS', 'END_DATE_AGE_YEARS', 'GOOD_PRICE', 'EMPLOYEMENT_DURATION', 'CNT_CHILDREN', 'CODE_GENDER', 'REGION_RATING_CLIENT', 'NAME_INCOME_TYPE', 'NAME_FAMILY_STATUS', 'ORGANIZATION_TYPE', 'NAME_CONTRACT_TYPE', 'FLAG_OWN_CAR', 'AMT_CREDIT', 'AMT_ANNUITY', 'CNT_PAYMENT']]"
   ]
  },
  {
   "cell_type": "code",
   "execution_count": 192,
   "id": "7a51f6b9",
   "metadata": {},
   "outputs": [
    {
     "name": "stdout",
     "output_type": "stream",
     "text": [
      "Control Default Rate (Non 20-30): 0.07\n",
      "Treatment Default Rate (20-30): 0.10\n",
      "T-statistic: 9.037176351268549, P-value: 1.898388138728004e-19\n"
     ]
    }
   ],
   "source": [
    "from scipy.stats import ttest_ind\n",
    "\n",
    "# Adjust credit limit for age group 20-30\n",
    "df_filtered.loc[df_filtered['AGE_GROUP'] == '20-30', 'AMT_CREDIT'] *= 0.8\n",
    "\n",
    "# Compare default rates\n",
    "default_rate_control = df_filtered[df_filtered['AGE_GROUP'] != '20-30']['TARGET'].mean()\n",
    "default_rate_treatment = df_filtered[df_filtered['AGE_GROUP'] == '20-30']['TARGET'].mean()\n",
    "\n",
    "# Perform a t-test\n",
    "t_stat, p_val = ttest_ind(df_filtered[df_filtered['AGE_GROUP'] == '20-30']['TARGET'], df_filtered[df_filtered['AGE_GROUP'] != '20-30']['TARGET'], equal_var=False)\n",
    "\n",
    "print(f\"Control Default Rate (Non 20-30): {default_rate_control:.2f}\")\n",
    "print(f\"Treatment Default Rate (20-30): {default_rate_treatment:.2f}\")\n",
    "print(f\"T-statistic: {t_stat}, P-value: {p_val}\")\n",
    "\n"
   ]
  },
  {
   "cell_type": "code",
   "execution_count": 166,
   "id": "d3efc8b3",
   "metadata": {},
   "outputs": [],
   "source": [
    "# # Define custom bins and labels for the seller place area\n",
    "# bins = [-1, 200, 400, 600, 800]  # Adjust these based on what makes sense for your dataset\n",
    "# labels = ['Low', 'Medium', 'High', 'Very High']\n",
    "# df['AREA_GROUP'] = pd.cut(df['SELLERPLACE_AREA'], bins=bins, labels=labels, right=False)\n",
    "\n",
    "# # Calculate default rates by seller place area\n",
    "# #SELLERPLACE_AREA qanchalik uyda turishibdi\n",
    "# area_analysis = df.groupby('AREA_GROUP')['TARGET'].mean()\n",
    "# print(\"Default rates by seller place area:\")\n",
    "# print(area_analysis)\n"
   ]
  },
  {
   "cell_type": "code",
   "execution_count": null,
   "id": "1e1276d4",
   "metadata": {},
   "outputs": [],
   "source": [
    "# #DAYS_DECISION\n",
    "# # Calculate quantiles for more data-driven bins or define them manually\n",
    "# bin_edges = np.linspace(df['MONTHS_DECISION'].min(), df['MONTHS_DECISION'].max(), num=6)\n",
    "# # Create labels based on these edges\n",
    "# bin_labels = [f\"{int(bin_edges[i])}-{int(bin_edges[i+1])} months\" for i in range(len(bin_edges)-1)]\n",
    "\n",
    "# # Use these edges and labels in pd.cut\n",
    "# df['MONTHS_DECISION_BINS'] = pd.cut(df['MONTHS_DECISION'], bins=bin_edges, labels=bin_labels)"
   ]
  },
  {
   "cell_type": "markdown",
   "id": "4f13baa8",
   "metadata": {},
   "source": [
    "Key findings"
   ]
  },
  {
   "cell_type": "markdown",
   "id": "3d62a1b3",
   "metadata": {},
   "source": [
    "After carrying out Exploratory Data Analysis, we were able to see that our dataset is highly imbalanced (there are far more Class 0 values as compared to Class 1 values in Target column), which means that we have to take this imbalance into account while conducting hypothesis testing and summarizing the results. \n",
    "\n",
    "\n",
    "\n",
    "\n",
    "- Most number of people applying for loans are in the range of (35–40) years whereas this is followed by people in the range of (40–45) years whereas the number of applicants in people aged <25 or aged>65 is very low. Again, for the people who are deemed capable of loan repayment, people in the same age buckets of (35–40) years and (40–45) years are deemed to be most capable. People aged in the buckets (25–30) years and (30–35) years have a large chance of being deemed not capable for loan repayment.\n",
    "\n",
    "- There is a statistically significant difference in default rates for family status feature\n",
    "\n",
    "- Clients with 0–6 months and more than 90 months of employment duration show a low default risk rate, 0.8. While those with between 7 and 80 months of employment duration show a higher than 0.6 default risk rate. \n",
    "\n",
    "- There is a statistically significant difference in default rates for name_income_type feature\n",
    "\n",
    "- There is no statistically significant difference in default rates for organization type feature\n",
    "\n",
    "- There is a statistically significant difference in default rates for region rates feature\n",
    "     The regions with a rate of 3 show a higher default rate which is 10% rather than the regions with a rate of 1 and 2 with a 7% default rate. \n",
    "\n",
    "- There is a statistically significant difference in default rates in how many days passed from previous credit\n",
    "     Clients who applied within 2 years for the credit from the previous one, show a high rate of default risk rate of more than 8%, and those within 2–5 years show more than 6%. \n",
    "     \n",
    "\n",
    "- There is a statistically significant difference in default rates in credit age\n",
    "\n",
    "- There is a statistically significant difference in default rates in age group\n",
    "     The 20-30 age group of clients shows a high rate of default risk at 10%, while the 30-40 age group is more than 8%. \n",
    "\n",
    "- There is a statistically significant difference in default rates in gender\n",
    "     In terms of gender, males show high rate of default more than 9% compared to females with the more than 6%\n",
    "\n",
    "- There is a statistically significant difference in default rates in number of children\n",
    "\n"
   ]
  },
  {
   "cell_type": "markdown",
   "id": "8d7b87b0",
   "metadata": {},
   "source": [
    "# Potential Solutions"
   ]
  },
  {
   "cell_type": "markdown",
   "id": "33b97ddf",
   "metadata": {},
   "source": [
    "1.\tRisk-based pricing: Implement a risk-based pricing strategy, where the interest rates and terms of the loan are customized to the borrower's credit risk. Higher-risk borrowers can be charged higher interest rates to offset the increased likelihood of defaults. This helps align the loan terms with the borrower's risk profile."
   ]
  },
  {
   "cell_type": "markdown",
   "id": "5c9816b2",
   "metadata": {},
   "source": [
    "2.\tChanges in Financial Circumstances: Stay informed about any changes in borrowers' financial circumstances, such as job loss, reduction in income, or significant life events. These changes can impact their ability to make timely payments. Encouraging borrowers to update their financial information regularly can help identify potential payment issues."
   ]
  }
 ],
 "metadata": {
  "kernelspec": {
   "display_name": "Python 3 (ipykernel)",
   "language": "python",
   "name": "python3"
  },
  "language_info": {
   "codemirror_mode": {
    "name": "ipython",
    "version": 3
   },
   "file_extension": ".py",
   "mimetype": "text/x-python",
   "name": "python",
   "nbconvert_exporter": "python",
   "pygments_lexer": "ipython3",
   "version": "3.11.5"
  }
 },
 "nbformat": 4,
 "nbformat_minor": 5
}
